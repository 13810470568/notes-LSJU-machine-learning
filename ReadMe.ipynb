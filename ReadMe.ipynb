{
 "cells": [
  {
   "cell_type": "markdown",
   "metadata": {},
   "source": [
    "# 机器学习笔记\n",
    "\n",
    "## 简介\n",
    "\n",
    "**作者：子实**\n",
    "\n",
    "机器学习笔记，使用 `jupyter notebook (ipython notebook)` 编写展示。\n",
    "\n",
    "`Github` 加载 `.ipynb` 的速度较慢，建议在 [Nbviewer](http://nbviewer.jupyter.org/github/zlotus/notes-LSJU-machine-learning/blob/master/ReadMe.ipynb?flush_cache=true) 中查看该项目。\n",
    "\n",
    "----\n",
    "\n",
    "## 目录\n",
    "\n",
    "来自斯坦福网络课程《机器学习》的笔记，可以在[斯坦福大学公开课：机器学习课程](http://open.163.com/special/opencourse/machinelearning.html)观看。\n",
    "\n",
    "根据视频内容，对每一讲的名称可能会有所更改（以更好的体现各讲的教学内容）。\n",
    "\n",
    "- [第1集] 机器学习的动机与应用\n",
    "- [第2集] [监督学习应用-线性回归](chapter02.ipynb)\n",
    "- [第3集] [线性回归的概率解释、局部加权回归、逻辑回归](chapter03.ipynb)\n",
    "- [第4集] [牛顿法、一般线性模型](chapter04.ipynb)\n",
    "- [第5集] [生成学习算法、高斯判别分析、朴素贝叶斯算法](chapter05.ipynb)\n",
    "- [第6集] [事件模型、函数间隔与几何间隔](chapter06.ipynb)\n",
    "- [第7集] [最优间隔分类器、拉格朗日对偶、支持向量机](chapter07.ipynb)\n",
    "- [第8集] [核方法、序列最小优化算法](chapter08.ipynb)\n",
    "- [第9集] 经验风险最小化\n",
    "- [第10集] 特征选择\n",
    "- [第11集] 贝叶斯统计正则化\n",
    "- [第12集] K-means算法\n",
    "- [第13集] 高斯混合模型\n",
    "- [第14集] 主成分分析法\n",
    "- [第15集] 奇异值分解\n",
    "- [第16集] 马尔可夫决策过程\n",
    "- [第17集] 离散与维数灾难\n",
    "- [第18集] 线性二次型调节控制\n",
    "- [第19集] 微分动态规划\n",
    "- [第20集] 策略搜索\n",
    "\n",
    "笔记格式借鉴[Jin Li](https://github.com/lijin-THU/)的[机器学习笔记](https://github.com/lijin-THU/notes-machine-learning)。"
   ]
  }
 ],
 "metadata": {
  "kernelspec": {
   "display_name": "Python 3",
   "language": "python",
   "name": "python3"
  },
  "language_info": {
   "codemirror_mode": {
    "name": "ipython",
    "version": 3
   },
   "file_extension": ".py",
   "mimetype": "text/x-python",
   "name": "python",
   "nbconvert_exporter": "python",
   "pygments_lexer": "ipython3",
   "version": "3.5.1"
  }
 },
 "nbformat": 4,
 "nbformat_minor": 0
}
